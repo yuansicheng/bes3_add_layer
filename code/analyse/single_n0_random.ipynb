{
 "cells": [
  {
   "cell_type": "markdown",
   "metadata": {},
   "source": [
    "# 加入物质对动量角度分辨的影响"
   ]
  },
  {
   "cell_type": "code",
   "execution_count": 1,
   "metadata": {},
   "outputs": [],
   "source": [
    "import os, sys\n",
    "import pandas as pd \n",
    "import numpy as np\n",
    "from glob import glob\n",
    "import matplotlib.pyplot as plt\n",
    "from tqdm import tqdm\n",
    "from itertools import product\n",
    "\n",
    "import uproot\n",
    "\n",
    "this_path = os.path.abspath('.')\n",
    "if this_path not in sys.path:\n",
    "    sys.path.append(this_path)\n",
    "\n",
    "import warnings\n",
    "warnings.filterwarnings('ignore')"
   ]
  },
  {
   "cell_type": "code",
   "execution_count": 2,
   "metadata": {},
   "outputs": [],
   "source": [
    "from single_pp_fixed_enery_and_direction_func import *"
   ]
  },
  {
   "cell_type": "code",
   "execution_count": 3,
   "metadata": {},
   "outputs": [],
   "source": [
    "def readRootFiles(root_files):\n",
    "    df_list = []\n",
    "    for root_file in tqdm(root_files):\n",
    "        df_list.append(readOneFile(root_file))\n",
    "    df = pd.concat(df_list)\n",
    "\n",
    "    return df\n",
    "\n",
    "def readOneFile(root_file):\n",
    "    rf = uproot.open(root_file)\n",
    "    tree = rf['RecInfo']\n",
    "\n",
    "    keys = ['momentum', 'theta', 'phi', 'killed', 'final_rxy', 'final_rz']\n",
    "\n",
    "    df = pd.DataFrame()\n",
    "    p_index = [np.argmax(p) if len(p) else None for p in tree['kal_p'].array()]\n",
    "    for key in keys:\n",
    "        tmp = tree[key].array()\n",
    "        if '_p' in key:\n",
    "            df[key] = [tmp[i][p_index[i]] if not p_index[i] is None else np.nan for i in range(len(tmp)) ] \n",
    "        else:\n",
    "            df[key] = list(tmp)\n",
    "\n",
    "    df['cos_theta'] = np.cos(df.theta)\n",
    "\n",
    "    return df"
   ]
  },
  {
   "cell_type": "code",
   "execution_count": 4,
   "metadata": {},
   "outputs": [],
   "source": [
    "index = ['efficiency', 'hit_additional_layer', 'all',]\n",
    "\n",
    "def df2Res(df):\n",
    "    global index\n",
    "    raw_shape = df.shape[0]\n",
    "    hit_additional_layer = df[(df.final_rxy>3.37) & (df.final_rxy<5.92) & (df.final_rz<13.4)].shape[0]\n",
    "    efficiency = hit_additional_layer / raw_shape if raw_shape else 0\n",
    "\n",
    "    return pd.Series([ efficiency, hit_additional_layer, raw_shape], index=index)\n",
    "\n"
   ]
  },
  {
   "cell_type": "code",
   "execution_count": 7,
   "metadata": {},
   "outputs": [
    {
     "name": "stderr",
     "output_type": "stream",
     "text": [
      "100%|██████████| 10/10 [00:07<00:00,  1.27it/s]\n",
      "108it [00:00, 248.35it/s]\n",
      "100%|██████████| 10/10 [00:08<00:00,  1.23it/s]\n",
      "108it [00:00, 235.37it/s]\n",
      "100%|██████████| 10/10 [00:08<00:00,  1.22it/s]\n",
      "108it [00:00, 229.79it/s]\n",
      "100%|██████████| 10/10 [00:08<00:00,  1.19it/s]\n",
      "108it [00:00, 208.79it/s]\n",
      "100%|██████████| 10/10 [00:08<00:00,  1.23it/s]\n",
      "108it [00:00, 252.40it/s]\n",
      "100%|██████████| 10/10 [00:08<00:00,  1.22it/s]\n",
      "108it [00:00, 243.59it/s]\n",
      "100%|██████████| 10/10 [00:08<00:00,  1.25it/s]\n",
      "108it [00:00, 228.88it/s]\n",
      "100%|██████████| 10/10 [00:08<00:00,  1.16it/s]\n",
      "108it [00:00, 177.71it/s]\n",
      "100%|██████████| 10/10 [00:08<00:00,  1.21it/s]\n",
      "108it [00:00, 241.42it/s]\n",
      "100%|██████████| 10/10 [00:08<00:00,  1.19it/s]\n",
      "108it [00:00, 247.48it/s]\n",
      "100%|██████████| 10/10 [00:08<00:00,  1.19it/s]\n",
      "108it [00:00, 247.22it/s]\n",
      "100%|██████████| 10/10 [00:08<00:00,  1.23it/s]\n",
      "108it [00:00, 243.03it/s]\n",
      "100%|██████████| 12/12 [01:44<00:00,  8.72s/it]\n"
     ]
    }
   ],
   "source": [
    "cos_theta_range = np.arange(0, 1, 0.1)\n",
    "p_range = np.arange(0, 1.3, 0.1)\n",
    "\n",
    "res_df = pd.DataFrame(columns=['particle', 'material', 'thickness', 'p', 'cos_theta'] + index)\n",
    "\n",
    "for root_path in tqdm(glob(os.path.join(this_path, '../../data/gen/single_n0/random/*/*'))):\n",
    "    root_path_copy = root_path\n",
    "    root_path_split = root_path_copy.replace('\\\\', '/').split('/')\n",
    "    particle, material, thickness = root_path_split[-4], root_path_split[-2].split('_')[1], int(root_path_split[-1])\n",
    "\n",
    "    # print(glob(os.path.join(root_path, '*.root')))\n",
    "    # continue\n",
    "\n",
    "    df = readRootFiles(glob(os.path.join(root_path, '*.root')))\n",
    "    \n",
    "    for i,j in tqdm(product(range(len(p_range)-1), range(len(cos_theta_range)-1))):\n",
    "        p1, p2 = p_range[i], p_range[i+1]\n",
    "        cos_theta1, cos_theta2 = cos_theta_range[j], cos_theta_range[j+1]\n",
    "\n",
    "        tmp = df.loc[\n",
    "            (df.momentum >= p1) &\n",
    "            (df.momentum < p2) &\n",
    "            (df.cos_theta >= cos_theta1) &\n",
    "            (df.cos_theta < cos_theta2)\n",
    "        ]\n",
    "        res = df2Res(tmp)\n",
    "        res = [particle, material, thickness, (p1+p2)/2, (cos_theta1+cos_theta2)/2] + list(res)\n",
    "        res_df.loc[res_df.shape[0]] = res\n",
    "\n"
   ]
  },
  {
   "cell_type": "code",
   "execution_count": 8,
   "metadata": {},
   "outputs": [],
   "source": [
    "res_df.to_csv('single_n0.csv')"
   ]
  }
 ],
 "metadata": {
  "kernelspec": {
   "display_name": "Python 3.8.13 ('py38')",
   "language": "python",
   "name": "python3"
  },
  "language_info": {
   "codemirror_mode": {
    "name": "ipython",
    "version": 3
   },
   "file_extension": ".py",
   "mimetype": "text/x-python",
   "name": "python",
   "nbconvert_exporter": "python",
   "pygments_lexer": "ipython3",
   "version": "3.8.13"
  },
  "orig_nbformat": 4,
  "vscode": {
   "interpreter": {
    "hash": "2792964f3dcf50b23a92b033166e06ea17b539f17d690189f59366d68e27ccdb"
   }
  }
 },
 "nbformat": 4,
 "nbformat_minor": 2
}
