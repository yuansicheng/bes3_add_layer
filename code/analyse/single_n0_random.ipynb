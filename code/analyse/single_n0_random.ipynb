{
 "cells": [
  {
   "cell_type": "markdown",
   "metadata": {},
   "source": [
    "# 加入物质对动量角度分辨的影响"
   ]
  },
  {
   "cell_type": "code",
   "execution_count": 18,
   "metadata": {},
   "outputs": [],
   "source": [
    "import os, sys\n",
    "import pandas as pd \n",
    "import numpy as np\n",
    "from glob import glob\n",
    "import matplotlib.pyplot as plt\n",
    "from tqdm import tqdm\n",
    "from itertools import product\n",
    "\n",
    "import uproot\n",
    "\n",
    "this_path = os.path.abspath('.')\n",
    "if this_path not in sys.path:\n",
    "    sys.path.append(this_path)\n",
    "\n",
    "import warnings\n",
    "warnings.filterwarnings('ignore')"
   ]
  },
  {
   "cell_type": "code",
   "execution_count": 19,
   "metadata": {},
   "outputs": [],
   "source": [
    "from single_pp_fixed_enery_and_direction_func import *"
   ]
  },
  {
   "cell_type": "code",
   "execution_count": 20,
   "metadata": {},
   "outputs": [],
   "source": [
    "def readRootFiles(root_files):\n",
    "    df_list = []\n",
    "    for root_file in tqdm(root_files):\n",
    "        try:\n",
    "            df_list.append(readOneFile(root_file))\n",
    "        except Exception as e:\n",
    "            print(root_file, e)\n",
    "    df = pd.concat(df_list)\n",
    "\n",
    "    return df\n",
    "\n",
    "def readOneFile(root_file):\n",
    "    rf = uproot.open(root_file)\n",
    "    tree = rf['RecInfo']\n",
    "\n",
    "    keys = ['momentum', 'theta', 'phi', 'killed', 'final_rxy', 'final_rz']\n",
    "\n",
    "    df = pd.DataFrame()\n",
    "    p_index = [np.argmax(p) if len(p) else None for p in tree['kal_p'].array()]\n",
    "    for key in keys:\n",
    "        tmp = tree[key].array()\n",
    "        if '_p' in key:\n",
    "            df[key] = [tmp[i][p_index[i]] if not p_index[i] is None else np.nan for i in range(len(tmp)) ] \n",
    "        else:\n",
    "            df[key] = list(tmp)\n",
    "\n",
    "    df['cos_theta'] = np.cos(df.theta)\n",
    "\n",
    "    return df"
   ]
  },
  {
   "cell_type": "code",
   "execution_count": 21,
   "metadata": {},
   "outputs": [],
   "source": [
    "index = ['efficiency', 'hit_additional_layer', 'all',]\n",
    "\n",
    "def df2Res(df):\n",
    "    global index\n",
    "    raw_shape = df.shape[0]\n",
    "    hit_additional_layer = df[(df.final_rxy>3.37) & (df.final_rxy<5.92) & (df.final_rz<13.4)].shape[0]\n",
    "    efficiency = hit_additional_layer / raw_shape if raw_shape else 0\n",
    "\n",
    "    return pd.Series([ efficiency, hit_additional_layer, raw_shape], index=index)\n",
    "\n"
   ]
  },
  {
   "cell_type": "code",
   "execution_count": 22,
   "metadata": {},
   "outputs": [
    {
     "name": "stderr",
     "output_type": "stream",
     "text": [
      " 73%|███████▎  | 73/100 [10:00<03:42,  8.23s/it]\n",
      "  0%|          | 0/12 [10:00<?, ?it/s]\n"
     ]
    },
    {
     "ename": "KeyboardInterrupt",
     "evalue": "",
     "output_type": "error",
     "traceback": [
      "\u001b[1;31m---------------------------------------------------------------------------\u001b[0m",
      "\u001b[1;31mKeyboardInterrupt\u001b[0m                         Traceback (most recent call last)",
      "\u001b[1;32mp:\\junofs\\users\\yuansc\\bes3_add_layer\\code\\analyse\\single_n0_random.ipynb Cell 6\u001b[0m in \u001b[0;36m<cell line: 6>\u001b[1;34m()\u001b[0m\n\u001b[0;32m      <a href='vscode-notebook-cell:/p%3A/junofs/users/yuansc/bes3_add_layer/code/analyse/single_n0_random.ipynb#W5sZmlsZQ%3D%3D?line=8'>9</a>\u001b[0m particle, material, thickness \u001b[39m=\u001b[39m root_path_split[\u001b[39m-\u001b[39m\u001b[39m4\u001b[39m], root_path_split[\u001b[39m-\u001b[39m\u001b[39m2\u001b[39m]\u001b[39m.\u001b[39msplit(\u001b[39m'\u001b[39m\u001b[39m_\u001b[39m\u001b[39m'\u001b[39m)[\u001b[39m1\u001b[39m], \u001b[39mint\u001b[39m(root_path_split[\u001b[39m-\u001b[39m\u001b[39m1\u001b[39m])\n\u001b[0;32m     <a href='vscode-notebook-cell:/p%3A/junofs/users/yuansc/bes3_add_layer/code/analyse/single_n0_random.ipynb#W5sZmlsZQ%3D%3D?line=10'>11</a>\u001b[0m \u001b[39m# print(glob(os.path.join(root_path, '*.root')))\u001b[39;00m\n\u001b[0;32m     <a href='vscode-notebook-cell:/p%3A/junofs/users/yuansc/bes3_add_layer/code/analyse/single_n0_random.ipynb#W5sZmlsZQ%3D%3D?line=11'>12</a>\u001b[0m \u001b[39m# continue\u001b[39;00m\n\u001b[1;32m---> <a href='vscode-notebook-cell:/p%3A/junofs/users/yuansc/bes3_add_layer/code/analyse/single_n0_random.ipynb#W5sZmlsZQ%3D%3D?line=13'>14</a>\u001b[0m df \u001b[39m=\u001b[39m readRootFiles(glob(os\u001b[39m.\u001b[39;49mpath\u001b[39m.\u001b[39;49mjoin(root_path, \u001b[39m'\u001b[39;49m\u001b[39m*.root\u001b[39;49m\u001b[39m'\u001b[39;49m)))\n\u001b[0;32m     <a href='vscode-notebook-cell:/p%3A/junofs/users/yuansc/bes3_add_layer/code/analyse/single_n0_random.ipynb#W5sZmlsZQ%3D%3D?line=15'>16</a>\u001b[0m \u001b[39mfor\u001b[39;00m i,j \u001b[39min\u001b[39;00m tqdm(product(\u001b[39mrange\u001b[39m(\u001b[39mlen\u001b[39m(p_range)\u001b[39m-\u001b[39m\u001b[39m1\u001b[39m), \u001b[39mrange\u001b[39m(\u001b[39mlen\u001b[39m(cos_theta_range)\u001b[39m-\u001b[39m\u001b[39m1\u001b[39m))):\n\u001b[0;32m     <a href='vscode-notebook-cell:/p%3A/junofs/users/yuansc/bes3_add_layer/code/analyse/single_n0_random.ipynb#W5sZmlsZQ%3D%3D?line=16'>17</a>\u001b[0m     p1, p2 \u001b[39m=\u001b[39m p_range[i], p_range[i\u001b[39m+\u001b[39m\u001b[39m1\u001b[39m]\n",
      "\u001b[1;32mp:\\junofs\\users\\yuansc\\bes3_add_layer\\code\\analyse\\single_n0_random.ipynb Cell 6\u001b[0m in \u001b[0;36mreadRootFiles\u001b[1;34m(root_files)\u001b[0m\n\u001b[0;32m      <a href='vscode-notebook-cell:/p%3A/junofs/users/yuansc/bes3_add_layer/code/analyse/single_n0_random.ipynb#W5sZmlsZQ%3D%3D?line=2'>3</a>\u001b[0m \u001b[39mfor\u001b[39;00m root_file \u001b[39min\u001b[39;00m tqdm(root_files):\n\u001b[0;32m      <a href='vscode-notebook-cell:/p%3A/junofs/users/yuansc/bes3_add_layer/code/analyse/single_n0_random.ipynb#W5sZmlsZQ%3D%3D?line=3'>4</a>\u001b[0m     \u001b[39mtry\u001b[39;00m:\n\u001b[1;32m----> <a href='vscode-notebook-cell:/p%3A/junofs/users/yuansc/bes3_add_layer/code/analyse/single_n0_random.ipynb#W5sZmlsZQ%3D%3D?line=4'>5</a>\u001b[0m         df_list\u001b[39m.\u001b[39mappend(readOneFile(root_file))\n\u001b[0;32m      <a href='vscode-notebook-cell:/p%3A/junofs/users/yuansc/bes3_add_layer/code/analyse/single_n0_random.ipynb#W5sZmlsZQ%3D%3D?line=5'>6</a>\u001b[0m     \u001b[39mexcept\u001b[39;00m \u001b[39mException\u001b[39;00m \u001b[39mas\u001b[39;00m e:\n\u001b[0;32m      <a href='vscode-notebook-cell:/p%3A/junofs/users/yuansc/bes3_add_layer/code/analyse/single_n0_random.ipynb#W5sZmlsZQ%3D%3D?line=6'>7</a>\u001b[0m         \u001b[39mprint\u001b[39m(root_file, e)\n",
      "\u001b[1;32mp:\\junofs\\users\\yuansc\\bes3_add_layer\\code\\analyse\\single_n0_random.ipynb Cell 6\u001b[0m in \u001b[0;36mreadOneFile\u001b[1;34m(root_file)\u001b[0m\n\u001b[0;32m     <a href='vscode-notebook-cell:/p%3A/junofs/users/yuansc/bes3_add_layer/code/analyse/single_n0_random.ipynb#W5sZmlsZQ%3D%3D?line=15'>16</a>\u001b[0m keys \u001b[39m=\u001b[39m [\u001b[39m'\u001b[39m\u001b[39mmomentum\u001b[39m\u001b[39m'\u001b[39m, \u001b[39m'\u001b[39m\u001b[39mtheta\u001b[39m\u001b[39m'\u001b[39m, \u001b[39m'\u001b[39m\u001b[39mphi\u001b[39m\u001b[39m'\u001b[39m, \u001b[39m'\u001b[39m\u001b[39mkilled\u001b[39m\u001b[39m'\u001b[39m, \u001b[39m'\u001b[39m\u001b[39mfinal_rxy\u001b[39m\u001b[39m'\u001b[39m, \u001b[39m'\u001b[39m\u001b[39mfinal_rz\u001b[39m\u001b[39m'\u001b[39m]\n\u001b[0;32m     <a href='vscode-notebook-cell:/p%3A/junofs/users/yuansc/bes3_add_layer/code/analyse/single_n0_random.ipynb#W5sZmlsZQ%3D%3D?line=17'>18</a>\u001b[0m df \u001b[39m=\u001b[39m pd\u001b[39m.\u001b[39mDataFrame()\n\u001b[1;32m---> <a href='vscode-notebook-cell:/p%3A/junofs/users/yuansc/bes3_add_layer/code/analyse/single_n0_random.ipynb#W5sZmlsZQ%3D%3D?line=18'>19</a>\u001b[0m p_index \u001b[39m=\u001b[39m [np\u001b[39m.\u001b[39margmax(p) \u001b[39mif\u001b[39;00m \u001b[39mlen\u001b[39m(p) \u001b[39melse\u001b[39;00m \u001b[39mNone\u001b[39;00m \u001b[39mfor\u001b[39;00m p \u001b[39min\u001b[39;00m tree[\u001b[39m'\u001b[39m\u001b[39mkal_p\u001b[39m\u001b[39m'\u001b[39m]\u001b[39m.\u001b[39marray()]\n\u001b[0;32m     <a href='vscode-notebook-cell:/p%3A/junofs/users/yuansc/bes3_add_layer/code/analyse/single_n0_random.ipynb#W5sZmlsZQ%3D%3D?line=19'>20</a>\u001b[0m \u001b[39mfor\u001b[39;00m key \u001b[39min\u001b[39;00m keys:\n\u001b[0;32m     <a href='vscode-notebook-cell:/p%3A/junofs/users/yuansc/bes3_add_layer/code/analyse/single_n0_random.ipynb#W5sZmlsZQ%3D%3D?line=20'>21</a>\u001b[0m     tmp \u001b[39m=\u001b[39m tree[key]\u001b[39m.\u001b[39marray()\n",
      "\u001b[1;32mp:\\junofs\\users\\yuansc\\bes3_add_layer\\code\\analyse\\single_n0_random.ipynb Cell 6\u001b[0m in \u001b[0;36m<listcomp>\u001b[1;34m(.0)\u001b[0m\n\u001b[0;32m     <a href='vscode-notebook-cell:/p%3A/junofs/users/yuansc/bes3_add_layer/code/analyse/single_n0_random.ipynb#W5sZmlsZQ%3D%3D?line=15'>16</a>\u001b[0m keys \u001b[39m=\u001b[39m [\u001b[39m'\u001b[39m\u001b[39mmomentum\u001b[39m\u001b[39m'\u001b[39m, \u001b[39m'\u001b[39m\u001b[39mtheta\u001b[39m\u001b[39m'\u001b[39m, \u001b[39m'\u001b[39m\u001b[39mphi\u001b[39m\u001b[39m'\u001b[39m, \u001b[39m'\u001b[39m\u001b[39mkilled\u001b[39m\u001b[39m'\u001b[39m, \u001b[39m'\u001b[39m\u001b[39mfinal_rxy\u001b[39m\u001b[39m'\u001b[39m, \u001b[39m'\u001b[39m\u001b[39mfinal_rz\u001b[39m\u001b[39m'\u001b[39m]\n\u001b[0;32m     <a href='vscode-notebook-cell:/p%3A/junofs/users/yuansc/bes3_add_layer/code/analyse/single_n0_random.ipynb#W5sZmlsZQ%3D%3D?line=17'>18</a>\u001b[0m df \u001b[39m=\u001b[39m pd\u001b[39m.\u001b[39mDataFrame()\n\u001b[1;32m---> <a href='vscode-notebook-cell:/p%3A/junofs/users/yuansc/bes3_add_layer/code/analyse/single_n0_random.ipynb#W5sZmlsZQ%3D%3D?line=18'>19</a>\u001b[0m p_index \u001b[39m=\u001b[39m [np\u001b[39m.\u001b[39;49margmax(p) \u001b[39mif\u001b[39;00m \u001b[39mlen\u001b[39m(p) \u001b[39melse\u001b[39;00m \u001b[39mNone\u001b[39;00m \u001b[39mfor\u001b[39;00m p \u001b[39min\u001b[39;00m tree[\u001b[39m'\u001b[39m\u001b[39mkal_p\u001b[39m\u001b[39m'\u001b[39m]\u001b[39m.\u001b[39marray()]\n\u001b[0;32m     <a href='vscode-notebook-cell:/p%3A/junofs/users/yuansc/bes3_add_layer/code/analyse/single_n0_random.ipynb#W5sZmlsZQ%3D%3D?line=19'>20</a>\u001b[0m \u001b[39mfor\u001b[39;00m key \u001b[39min\u001b[39;00m keys:\n\u001b[0;32m     <a href='vscode-notebook-cell:/p%3A/junofs/users/yuansc/bes3_add_layer/code/analyse/single_n0_random.ipynb#W5sZmlsZQ%3D%3D?line=20'>21</a>\u001b[0m     tmp \u001b[39m=\u001b[39m tree[key]\u001b[39m.\u001b[39marray()\n",
      "File \u001b[1;32m<__array_function__ internals>:180\u001b[0m, in \u001b[0;36margmax\u001b[1;34m(*args, **kwargs)\u001b[0m\n",
      "File \u001b[1;32mc:\\Users\\Dell\\Anaconda3\\envs\\py38\\lib\\site-packages\\awkward\\highlevel.py:1434\u001b[0m, in \u001b[0;36mArray.__array_function__\u001b[1;34m(self, func, types, args, kwargs)\u001b[0m\n\u001b[0;32m   1417\u001b[0m \u001b[39mdef\u001b[39;00m \u001b[39m__array_function__\u001b[39m(\u001b[39mself\u001b[39m, func, types, args, kwargs):\n\u001b[0;32m   1418\u001b[0m     \u001b[39m\"\"\"\u001b[39;00m\n\u001b[0;32m   1419\u001b[0m \u001b[39m    Intercepts attempts to pass this Array to those NumPy functions other\u001b[39;00m\n\u001b[0;32m   1420\u001b[0m \u001b[39m    than universal functions that have an Awkward equivalent.\u001b[39;00m\n\u001b[1;32m   (...)\u001b[0m\n\u001b[0;32m   1432\u001b[0m \u001b[39m    See also #__array_ufunc__.\u001b[39;00m\n\u001b[0;32m   1433\u001b[0m \u001b[39m    \"\"\"\u001b[39;00m\n\u001b[1;32m-> 1434\u001b[0m     \u001b[39mreturn\u001b[39;00m ak\u001b[39m.\u001b[39;49m_connect\u001b[39m.\u001b[39;49m_numpy\u001b[39m.\u001b[39;49marray_function(func, types, args, kwargs)\n",
      "File \u001b[1;32mc:\\Users\\Dell\\Anaconda3\\envs\\py38\\lib\\site-packages\\awkward\\_connect\\_numpy.py:43\u001b[0m, in \u001b[0;36marray_function\u001b[1;34m(func, types, args, kwargs)\u001b[0m\n\u001b[0;32m     41\u001b[0m         \u001b[39mreturn\u001b[39;00m out\n\u001b[0;32m     42\u001b[0m \u001b[39melse\u001b[39;00m:\n\u001b[1;32m---> 43\u001b[0m     \u001b[39mreturn\u001b[39;00m function(\u001b[39m*\u001b[39;49margs, \u001b[39m*\u001b[39;49m\u001b[39m*\u001b[39;49mkwargs)\n",
      "File \u001b[1;32mc:\\Users\\Dell\\Anaconda3\\envs\\py38\\lib\\site-packages\\awkward\\operations\\reducers.py:826\u001b[0m, in \u001b[0;36margmax\u001b[1;34m(array, axis, keepdims, mask_identity)\u001b[0m\n\u001b[0;32m    824\u001b[0m best_value \u001b[39m=\u001b[39m \u001b[39mNone\u001b[39;00m\n\u001b[0;32m    825\u001b[0m \u001b[39mfor\u001b[39;00m tmp \u001b[39min\u001b[39;00m ak\u001b[39m.\u001b[39m_util\u001b[39m.\u001b[39mcompletely_flatten(layout):\n\u001b[1;32m--> 826\u001b[0m     out \u001b[39m=\u001b[39m ak\u001b[39m.\u001b[39;49mnplike\u001b[39m.\u001b[39;49mof(tmp)\u001b[39m.\u001b[39;49margmax(tmp, axis\u001b[39m=\u001b[39;49m\u001b[39mNone\u001b[39;49;00m)\n\u001b[0;32m    827\u001b[0m     \u001b[39mif\u001b[39;00m best_index \u001b[39mis\u001b[39;00m \u001b[39mNone\u001b[39;00m \u001b[39mor\u001b[39;00m tmp[out] \u001b[39m>\u001b[39m best_value:\n\u001b[0;32m    828\u001b[0m         best_index \u001b[39m=\u001b[39m out\n",
      "File \u001b[1;32mc:\\Users\\Dell\\Anaconda3\\envs\\py38\\lib\\site-packages\\awkward\\nplike.py:353\u001b[0m, in \u001b[0;36mNumpyLike.argmax\u001b[1;34m(self, *args, **kwargs)\u001b[0m\n\u001b[0;32m    351\u001b[0m \u001b[39mdef\u001b[39;00m \u001b[39margmax\u001b[39m(\u001b[39mself\u001b[39m, \u001b[39m*\u001b[39margs, \u001b[39m*\u001b[39m\u001b[39m*\u001b[39mkwargs):\n\u001b[0;32m    352\u001b[0m     \u001b[39m# array[, axis=]\u001b[39;00m\n\u001b[1;32m--> 353\u001b[0m     \u001b[39mreturn\u001b[39;00m \u001b[39mself\u001b[39;49m\u001b[39m.\u001b[39;49m_module\u001b[39m.\u001b[39;49margmax(\u001b[39m*\u001b[39;49margs, \u001b[39m*\u001b[39;49m\u001b[39m*\u001b[39;49mkwargs)\n",
      "File \u001b[1;32m<__array_function__ internals>:180\u001b[0m, in \u001b[0;36margmax\u001b[1;34m(*args, **kwargs)\u001b[0m\n",
      "File \u001b[1;32mc:\\Users\\Dell\\Anaconda3\\envs\\py38\\lib\\site-packages\\numpy\\core\\fromnumeric.py:1216\u001b[0m, in \u001b[0;36margmax\u001b[1;34m(a, axis, out, keepdims)\u001b[0m\n\u001b[0;32m   1129\u001b[0m \u001b[39m\"\"\"\u001b[39;00m\n\u001b[0;32m   1130\u001b[0m \u001b[39mReturns the indices of the maximum values along an axis.\u001b[39;00m\n\u001b[0;32m   1131\u001b[0m \n\u001b[1;32m   (...)\u001b[0m\n\u001b[0;32m   1213\u001b[0m \u001b[39m(2, 1, 4)\u001b[39;00m\n\u001b[0;32m   1214\u001b[0m \u001b[39m\"\"\"\u001b[39;00m\n\u001b[0;32m   1215\u001b[0m kwds \u001b[39m=\u001b[39m {\u001b[39m'\u001b[39m\u001b[39mkeepdims\u001b[39m\u001b[39m'\u001b[39m: keepdims} \u001b[39mif\u001b[39;00m keepdims \u001b[39mis\u001b[39;00m \u001b[39mnot\u001b[39;00m np\u001b[39m.\u001b[39m_NoValue \u001b[39melse\u001b[39;00m {}\n\u001b[1;32m-> 1216\u001b[0m \u001b[39mreturn\u001b[39;00m _wrapfunc(a, \u001b[39m'\u001b[39;49m\u001b[39margmax\u001b[39;49m\u001b[39m'\u001b[39;49m, axis\u001b[39m=\u001b[39;49maxis, out\u001b[39m=\u001b[39;49mout, \u001b[39m*\u001b[39;49m\u001b[39m*\u001b[39;49mkwds)\n",
      "File \u001b[1;32mc:\\Users\\Dell\\Anaconda3\\envs\\py38\\lib\\site-packages\\numpy\\core\\fromnumeric.py:57\u001b[0m, in \u001b[0;36m_wrapfunc\u001b[1;34m(obj, method, *args, **kwds)\u001b[0m\n\u001b[0;32m     54\u001b[0m     \u001b[39mreturn\u001b[39;00m _wrapit(obj, method, \u001b[39m*\u001b[39margs, \u001b[39m*\u001b[39m\u001b[39m*\u001b[39mkwds)\n\u001b[0;32m     56\u001b[0m \u001b[39mtry\u001b[39;00m:\n\u001b[1;32m---> 57\u001b[0m     \u001b[39mreturn\u001b[39;00m bound(\u001b[39m*\u001b[39;49margs, \u001b[39m*\u001b[39;49m\u001b[39m*\u001b[39;49mkwds)\n\u001b[0;32m     58\u001b[0m \u001b[39mexcept\u001b[39;00m \u001b[39mTypeError\u001b[39;00m:\n\u001b[0;32m     59\u001b[0m     \u001b[39m# A TypeError occurs if the object does have such a method in its\u001b[39;00m\n\u001b[0;32m     60\u001b[0m     \u001b[39m# class, but its signature is not identical to that of NumPy's. This\u001b[39;00m\n\u001b[1;32m   (...)\u001b[0m\n\u001b[0;32m     64\u001b[0m     \u001b[39m# Call _wrapit from within the except clause to ensure a potential\u001b[39;00m\n\u001b[0;32m     65\u001b[0m     \u001b[39m# exception has a traceback chain.\u001b[39;00m\n\u001b[0;32m     66\u001b[0m     \u001b[39mreturn\u001b[39;00m _wrapit(obj, method, \u001b[39m*\u001b[39margs, \u001b[39m*\u001b[39m\u001b[39m*\u001b[39mkwds)\n",
      "\u001b[1;31mKeyboardInterrupt\u001b[0m: "
     ]
    }
   ],
   "source": [
    "cos_theta_range = np.arange(0, 1, 0.1)\n",
    "p_range = np.arange(0, 1.3, 0.1)\n",
    "\n",
    "res_df = pd.DataFrame(columns=['particle', 'material', 'thickness', 'p', 'cos_theta'] + index)\n",
    "\n",
    "for root_path in tqdm(glob(os.path.join(this_path, '../../data/gen/single_n0/random/*/*'))):\n",
    "    root_path_copy = root_path\n",
    "    root_path_split = root_path_copy.replace('\\\\', '/').split('/')\n",
    "    particle, material, thickness = root_path_split[-4], root_path_split[-2].split('_')[1], int(root_path_split[-1])\n",
    "\n",
    "    # print(glob(os.path.join(root_path, '*.root')))\n",
    "    # continue\n",
    "\n",
    "    df = readRootFiles(glob(os.path.join(root_path, '*.root')))\n",
    "    \n",
    "    for i,j in tqdm(product(range(len(p_range)-1), range(len(cos_theta_range)-1))):\n",
    "        p1, p2 = p_range[i], p_range[i+1]\n",
    "        cos_theta1, cos_theta2 = cos_theta_range[j], cos_theta_range[j+1]\n",
    "\n",
    "        tmp = df.loc[\n",
    "            (df.momentum >= p1) &\n",
    "            (df.momentum < p2) &\n",
    "            (df.cos_theta >= cos_theta1) &\n",
    "            (df.cos_theta < cos_theta2)\n",
    "        ]\n",
    "        res = df2Res(tmp)\n",
    "        res = [particle, material, thickness, (p1+p2)/2, (cos_theta1+cos_theta2)/2] + list(res)\n",
    "        res_df.loc[res_df.shape[0]] = res\n",
    "\n"
   ]
  },
  {
   "cell_type": "code",
   "execution_count": null,
   "metadata": {},
   "outputs": [],
   "source": [
    "res_df.to_csv('single_n0.csv')"
   ]
  }
 ],
 "metadata": {
  "kernelspec": {
   "display_name": "Python 3.8.13 ('py38')",
   "language": "python",
   "name": "python3"
  },
  "language_info": {
   "codemirror_mode": {
    "name": "ipython",
    "version": 3
   },
   "file_extension": ".py",
   "mimetype": "text/x-python",
   "name": "python",
   "nbconvert_exporter": "python",
   "pygments_lexer": "ipython3",
   "version": "3.8.13"
  },
  "orig_nbformat": 4,
  "vscode": {
   "interpreter": {
    "hash": "2792964f3dcf50b23a92b033166e06ea17b539f17d690189f59366d68e27ccdb"
   }
  }
 },
 "nbformat": 4,
 "nbformat_minor": 2
}
