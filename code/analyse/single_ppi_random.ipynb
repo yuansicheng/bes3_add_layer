{
 "cells": [
  {
   "cell_type": "markdown",
   "metadata": {},
   "source": [
    "# 加入物质对动量角度分辨的影响"
   ]
  },
  {
   "cell_type": "code",
   "execution_count": 37,
   "metadata": {},
   "outputs": [],
   "source": [
    "import os, sys\n",
    "import pandas as pd \n",
    "import numpy as np\n",
    "from glob import glob\n",
    "import matplotlib.pyplot as plt\n",
    "from tqdm import tqdm\n",
    "from itertools import product\n",
    "\n",
    "import uproot\n",
    "\n",
    "this_path = os.path.abspath('.')\n",
    "if this_path not in sys.path:\n",
    "    sys.path.append(this_path)\n",
    "\n",
    "import warnings\n",
    "warnings.filterwarnings('ignore')"
   ]
  },
  {
   "cell_type": "code",
   "execution_count": 38,
   "metadata": {},
   "outputs": [],
   "source": [
    "# from single_pp_fixed_enery_and_direction_func import *"
   ]
  },
  {
   "cell_type": "code",
   "execution_count": 39,
   "metadata": {},
   "outputs": [],
   "source": [
    "def readRootFiles(root_files):\n",
    "    df_list = []\n",
    "    for root_file in tqdm(root_files):\n",
    "        try:\n",
    "            df_list.append(readOneFile(root_file))\n",
    "        except Exception as e:\n",
    "            print(root_file, e)\n",
    "    df = pd.concat(df_list)\n",
    "\n",
    "    return df\n",
    "\n",
    "def readOneFile(root_file):\n",
    "    rf = uproot.open(root_file)\n",
    "    tree = rf['RecInfo']\n",
    "\n",
    "    keys = ['momentum', 'theta', 'phi', 'kal_p', 'kal_px', 'kal_py', 'kal_pz']\n",
    "\n",
    "    df = pd.DataFrame()\n",
    "    p_index = [np.argmax(p) if len(p) else None for p in tree['kal_p'].array()]\n",
    "    for key in keys:\n",
    "        tmp = tree[key].array()\n",
    "        if '_p' in key:\n",
    "            df[key] = [tmp[i][p_index[i]] if not p_index[i] is None else np.nan for i in range(len(tmp)) ] \n",
    "        else:\n",
    "            df[key] = list(tmp)\n",
    "\n",
    "    df['cos_theta'] = np.cos(df.theta)\n",
    "\n",
    "    return df"
   ]
  },
  {
   "cell_type": "code",
   "execution_count": 40,
   "metadata": {},
   "outputs": [],
   "source": [
    "def getDeltaAngle(df):\n",
    "    mc_p = np.array(pthetaphi2Pxpypz(df['momentum'], df['theta'],df['phi']))\n",
    "    px, py, pz = df['kal_px'], df['kal_py'], df['kal_pz']\n",
    "    p = np.array([px, py, pz])\n",
    "    return math.acos(p.dot(mc_p) / (np.linalg.norm(p) * np.linalg.norm(mc_p)))\n",
    "\n",
    "def pxpypz2Theta(df):\n",
    "    px, py, pz = df['kal_px'], df['kal_py'], df['kal_pz']\n",
    "    return math.acos(pz / np.linalg.norm(np.array([px,py,pz])))\n",
    "\n",
    "def fitNorm(data, nbins=100):\n",
    "    mean, std = data.mean(), data.std()\n",
    "    data = data.loc[\n",
    "        (data > mean-2*std) &\n",
    "        (data < mean+2*std)\n",
    "    ]\n",
    "    \n",
    "    # plt.figure(figsize=(4,2))\n",
    "    n, bins, _ = plt.hist(data ,nbins, density=True, facecolor = 'grey', alpha = 0.5, label='before')\n",
    "    centers = (0.5*(bins[1:]+bins[:-1]))\n",
    "    pars, cov = curve_fit(lambda x, mu, sig : norm.pdf(x, loc=mu, scale=sig), centers, n, p0=[mean,std])\n",
    "    plt.plot(centers, norm.pdf(centers,*pars), 'k--',linewidth = 2, label='fit before',)\n",
    "    plt.title('$\\mu={:.4f}\\pm{:.4f}$, $\\sigma={:.4f}\\pm{:.4f}$'.format(pars[0],np.sqrt(cov[0,0]), pars[1], np.sqrt(cov[1,1 ])))\n",
    "    # plt.show()\n",
    "    plt.close()\n",
    "\n",
    "    return pars[0], cov[0,0]**0.5, pars[1], cov[1,1]**0.5"
   ]
  },
  {
   "cell_type": "code",
   "execution_count": 41,
   "metadata": {},
   "outputs": [],
   "source": [
    "index = ['p_loc', 'p_loc_err', 'p_scale', 'p_scale_err', 'theta_loc', 'theta_loc_err', 'theta_scale', 'theta_scale_err', 'efficiency', 'valid', 'all', 'delta_angle_one_sigma']\n",
    "\n",
    "def df2Res(df):\n",
    "    global index\n",
    "    raw_shape = df.shape[0]\n",
    "    df = df.loc[df.kal_p > 1e-6]\n",
    "    efficiency = df.shape[0] / raw_shape if raw_shape else 0\n",
    "\n",
    "    if not df.shape[0]:\n",
    "        return pd.Series([np.nan]*len(index), index=index)\n",
    "\n",
    "    df = df.copy()\n",
    "    df['kal_theta'] = df.apply(pxpypz2Theta, axis=1)\n",
    "    df['dp'] = df.kal_p - df.momentum\n",
    "    df['dtheta'] = df.kal_theta - df.theta\n",
    "    try:\n",
    "        p_loc, p_loc_err, p_scale, p_scale_err = fitNorm(df['dp'])\n",
    "        theta_loc, theta_loc_err, theta_scale, theta_scale_err = fitNorm(df['dtheta'])\n",
    "    except:\n",
    "        p_loc, p_loc_err, p_scale, p_scale_err, theta_loc, theta_loc_err, theta_scale, theta_scale_err = tuple([np.nan]*8)\n",
    "\n",
    "    df['delta_angle'] = df.apply(getDeltaAngle, axis=1)\n",
    "    delta_angle_one_sigma = np.percentile(df['delta_angle'].dropna(), 68.3)\n",
    "\n",
    "    return pd.Series([p_loc, p_loc_err, p_scale, p_scale_err, theta_loc, theta_loc_err, theta_scale, theta_scale_err, efficiency, df.shape[0], raw_shape, delta_angle_one_sigma], index=index)\n",
    "\n"
   ]
  },
  {
   "cell_type": "code",
   "execution_count": 42,
   "metadata": {},
   "outputs": [
    {
     "name": "stderr",
     "output_type": "stream",
     "text": [
      "  0%|          | 0/10 [00:13<?, ?it/s]\n",
      "  0%|          | 0/24 [00:13<?, ?it/s]\n"
     ]
    },
    {
     "ename": "KeyboardInterrupt",
     "evalue": "",
     "output_type": "error",
     "traceback": [
      "\u001b[1;31m---------------------------------------------------------------------------\u001b[0m",
      "\u001b[1;31mKeyboardInterrupt\u001b[0m                         Traceback (most recent call last)",
      "\u001b[1;32mp:\\junofs\\users\\yuansc\\bes3_add_layer\\code\\analyse\\single_ppi_random.ipynb Cell 7\u001b[0m in \u001b[0;36m<cell line: 5>\u001b[1;34m()\u001b[0m\n\u001b[0;32m     <a href='vscode-notebook-cell:/p%3A/junofs/users/yuansc/bes3_add_layer/code/analyse/single_ppi_random.ipynb#W6sZmlsZQ%3D%3D?line=10'>11</a>\u001b[0m p_range \u001b[39m=\u001b[39m np\u001b[39m.\u001b[39marange(p_min, \u001b[39m1.4\u001b[39m, \u001b[39m0.1\u001b[39m)\n\u001b[0;32m     <a href='vscode-notebook-cell:/p%3A/junofs/users/yuansc/bes3_add_layer/code/analyse/single_ppi_random.ipynb#W6sZmlsZQ%3D%3D?line=12'>13</a>\u001b[0m \u001b[39m# print(glob(os.path.join(root_path, '*.root')))\u001b[39;00m\n\u001b[0;32m     <a href='vscode-notebook-cell:/p%3A/junofs/users/yuansc/bes3_add_layer/code/analyse/single_ppi_random.ipynb#W6sZmlsZQ%3D%3D?line=13'>14</a>\u001b[0m \u001b[39m# continue\u001b[39;00m\n\u001b[1;32m---> <a href='vscode-notebook-cell:/p%3A/junofs/users/yuansc/bes3_add_layer/code/analyse/single_ppi_random.ipynb#W6sZmlsZQ%3D%3D?line=15'>16</a>\u001b[0m df \u001b[39m=\u001b[39m readRootFiles(glob(os\u001b[39m.\u001b[39;49mpath\u001b[39m.\u001b[39;49mjoin(root_path, \u001b[39m'\u001b[39;49m\u001b[39m*.root\u001b[39;49m\u001b[39m'\u001b[39;49m)))\n\u001b[0;32m     <a href='vscode-notebook-cell:/p%3A/junofs/users/yuansc/bes3_add_layer/code/analyse/single_ppi_random.ipynb#W6sZmlsZQ%3D%3D?line=17'>18</a>\u001b[0m \u001b[39mfor\u001b[39;00m i,j \u001b[39min\u001b[39;00m tqdm(product(\u001b[39mrange\u001b[39m(\u001b[39mlen\u001b[39m(p_range)\u001b[39m-\u001b[39m\u001b[39m1\u001b[39m), \u001b[39mrange\u001b[39m(\u001b[39mlen\u001b[39m(cos_theta_range)\u001b[39m-\u001b[39m\u001b[39m1\u001b[39m))):\n\u001b[0;32m     <a href='vscode-notebook-cell:/p%3A/junofs/users/yuansc/bes3_add_layer/code/analyse/single_ppi_random.ipynb#W6sZmlsZQ%3D%3D?line=18'>19</a>\u001b[0m     p1, p2 \u001b[39m=\u001b[39m p_range[i], p_range[i\u001b[39m+\u001b[39m\u001b[39m1\u001b[39m]\n",
      "\u001b[1;32mp:\\junofs\\users\\yuansc\\bes3_add_layer\\code\\analyse\\single_ppi_random.ipynb Cell 7\u001b[0m in \u001b[0;36mreadRootFiles\u001b[1;34m(root_files)\u001b[0m\n\u001b[0;32m      <a href='vscode-notebook-cell:/p%3A/junofs/users/yuansc/bes3_add_layer/code/analyse/single_ppi_random.ipynb#W6sZmlsZQ%3D%3D?line=2'>3</a>\u001b[0m \u001b[39mfor\u001b[39;00m root_file \u001b[39min\u001b[39;00m tqdm(root_files):\n\u001b[0;32m      <a href='vscode-notebook-cell:/p%3A/junofs/users/yuansc/bes3_add_layer/code/analyse/single_ppi_random.ipynb#W6sZmlsZQ%3D%3D?line=3'>4</a>\u001b[0m     \u001b[39mtry\u001b[39;00m:\n\u001b[1;32m----> <a href='vscode-notebook-cell:/p%3A/junofs/users/yuansc/bes3_add_layer/code/analyse/single_ppi_random.ipynb#W6sZmlsZQ%3D%3D?line=4'>5</a>\u001b[0m         df_list\u001b[39m.\u001b[39mappend(readOneFile(root_file))\n\u001b[0;32m      <a href='vscode-notebook-cell:/p%3A/junofs/users/yuansc/bes3_add_layer/code/analyse/single_ppi_random.ipynb#W6sZmlsZQ%3D%3D?line=5'>6</a>\u001b[0m     \u001b[39mexcept\u001b[39;00m \u001b[39mException\u001b[39;00m \u001b[39mas\u001b[39;00m e:\n\u001b[0;32m      <a href='vscode-notebook-cell:/p%3A/junofs/users/yuansc/bes3_add_layer/code/analyse/single_ppi_random.ipynb#W6sZmlsZQ%3D%3D?line=6'>7</a>\u001b[0m         \u001b[39mprint\u001b[39m(root_file, e)\n",
      "\u001b[1;32mp:\\junofs\\users\\yuansc\\bes3_add_layer\\code\\analyse\\single_ppi_random.ipynb Cell 7\u001b[0m in \u001b[0;36mreadOneFile\u001b[1;34m(root_file)\u001b[0m\n\u001b[0;32m     <a href='vscode-notebook-cell:/p%3A/junofs/users/yuansc/bes3_add_layer/code/analyse/single_ppi_random.ipynb#W6sZmlsZQ%3D%3D?line=20'>21</a>\u001b[0m tmp \u001b[39m=\u001b[39m tree[key]\u001b[39m.\u001b[39marray()\n\u001b[0;32m     <a href='vscode-notebook-cell:/p%3A/junofs/users/yuansc/bes3_add_layer/code/analyse/single_ppi_random.ipynb#W6sZmlsZQ%3D%3D?line=21'>22</a>\u001b[0m \u001b[39mif\u001b[39;00m \u001b[39m'\u001b[39m\u001b[39m_p\u001b[39m\u001b[39m'\u001b[39m \u001b[39min\u001b[39;00m key:\n\u001b[1;32m---> <a href='vscode-notebook-cell:/p%3A/junofs/users/yuansc/bes3_add_layer/code/analyse/single_ppi_random.ipynb#W6sZmlsZQ%3D%3D?line=22'>23</a>\u001b[0m     df[key] \u001b[39m=\u001b[39m [tmp[i][p_index[i]] \u001b[39mif\u001b[39;00m \u001b[39mnot\u001b[39;00m p_index[i] \u001b[39mis\u001b[39;00m \u001b[39mNone\u001b[39;00m \u001b[39melse\u001b[39;00m np\u001b[39m.\u001b[39mnan \u001b[39mfor\u001b[39;00m i \u001b[39min\u001b[39;00m \u001b[39mrange\u001b[39m(\u001b[39mlen\u001b[39m(tmp)) ] \n\u001b[0;32m     <a href='vscode-notebook-cell:/p%3A/junofs/users/yuansc/bes3_add_layer/code/analyse/single_ppi_random.ipynb#W6sZmlsZQ%3D%3D?line=23'>24</a>\u001b[0m \u001b[39melse\u001b[39;00m:\n\u001b[0;32m     <a href='vscode-notebook-cell:/p%3A/junofs/users/yuansc/bes3_add_layer/code/analyse/single_ppi_random.ipynb#W6sZmlsZQ%3D%3D?line=24'>25</a>\u001b[0m     df[key] \u001b[39m=\u001b[39m \u001b[39mlist\u001b[39m(tmp)\n",
      "\u001b[1;32mp:\\junofs\\users\\yuansc\\bes3_add_layer\\code\\analyse\\single_ppi_random.ipynb Cell 7\u001b[0m in \u001b[0;36m<listcomp>\u001b[1;34m(.0)\u001b[0m\n\u001b[0;32m     <a href='vscode-notebook-cell:/p%3A/junofs/users/yuansc/bes3_add_layer/code/analyse/single_ppi_random.ipynb#W6sZmlsZQ%3D%3D?line=20'>21</a>\u001b[0m tmp \u001b[39m=\u001b[39m tree[key]\u001b[39m.\u001b[39marray()\n\u001b[0;32m     <a href='vscode-notebook-cell:/p%3A/junofs/users/yuansc/bes3_add_layer/code/analyse/single_ppi_random.ipynb#W6sZmlsZQ%3D%3D?line=21'>22</a>\u001b[0m \u001b[39mif\u001b[39;00m \u001b[39m'\u001b[39m\u001b[39m_p\u001b[39m\u001b[39m'\u001b[39m \u001b[39min\u001b[39;00m key:\n\u001b[1;32m---> <a href='vscode-notebook-cell:/p%3A/junofs/users/yuansc/bes3_add_layer/code/analyse/single_ppi_random.ipynb#W6sZmlsZQ%3D%3D?line=22'>23</a>\u001b[0m     df[key] \u001b[39m=\u001b[39m [tmp[i][p_index[i]] \u001b[39mif\u001b[39;00m \u001b[39mnot\u001b[39;00m p_index[i] \u001b[39mis\u001b[39;00m \u001b[39mNone\u001b[39;00m \u001b[39melse\u001b[39;00m np\u001b[39m.\u001b[39mnan \u001b[39mfor\u001b[39;00m i \u001b[39min\u001b[39;00m \u001b[39mrange\u001b[39m(\u001b[39mlen\u001b[39m(tmp)) ] \n\u001b[0;32m     <a href='vscode-notebook-cell:/p%3A/junofs/users/yuansc/bes3_add_layer/code/analyse/single_ppi_random.ipynb#W6sZmlsZQ%3D%3D?line=23'>24</a>\u001b[0m \u001b[39melse\u001b[39;00m:\n\u001b[0;32m     <a href='vscode-notebook-cell:/p%3A/junofs/users/yuansc/bes3_add_layer/code/analyse/single_ppi_random.ipynb#W6sZmlsZQ%3D%3D?line=24'>25</a>\u001b[0m     df[key] \u001b[39m=\u001b[39m \u001b[39mlist\u001b[39m(tmp)\n",
      "File \u001b[1;32mc:\\Users\\Dell\\Anaconda3\\envs\\py38\\lib\\site-packages\\awkward\\highlevel.py:991\u001b[0m, in \u001b[0;36mArray.__getitem__\u001b[1;34m(self, where)\u001b[0m\n\u001b[0;32m    579\u001b[0m \u001b[39m\"\"\"\u001b[39;00m\n\u001b[0;32m    580\u001b[0m \u001b[39mArgs:\u001b[39;00m\n\u001b[0;32m    581\u001b[0m \u001b[39m    where (many types supported; see below): Index of positions to\u001b[39;00m\n\u001b[1;32m   (...)\u001b[0m\n\u001b[0;32m    988\u001b[0m \u001b[39mhave the same dimension as the array being indexed.\u001b[39;00m\n\u001b[0;32m    989\u001b[0m \u001b[39m\"\"\"\u001b[39;00m\n\u001b[0;32m    990\u001b[0m \u001b[39mif\u001b[39;00m \u001b[39mnot\u001b[39;00m \u001b[39mhasattr\u001b[39m(\u001b[39mself\u001b[39m, \u001b[39m\"\u001b[39m\u001b[39m_tracers\u001b[39m\u001b[39m\"\u001b[39m):\n\u001b[1;32m--> 991\u001b[0m     tmp \u001b[39m=\u001b[39m ak\u001b[39m.\u001b[39;49m_util\u001b[39m.\u001b[39;49mwrap(\u001b[39mself\u001b[39;49m\u001b[39m.\u001b[39;49mlayout[where], \u001b[39mself\u001b[39;49m\u001b[39m.\u001b[39;49m_behavior)\n\u001b[0;32m    992\u001b[0m \u001b[39melse\u001b[39;00m:\n\u001b[0;32m    993\u001b[0m     tmp \u001b[39m=\u001b[39m ak\u001b[39m.\u001b[39m_connect\u001b[39m.\u001b[39m_jax\u001b[39m.\u001b[39mjax_utils\u001b[39m.\u001b[39m_jaxtracers_getitem(\u001b[39mself\u001b[39m, where)\n",
      "File \u001b[1;32mc:\\Users\\Dell\\Anaconda3\\envs\\py38\\lib\\site-packages\\awkward\\_util.py:507\u001b[0m, in \u001b[0;36mwrap\u001b[1;34m(content, behavior)\u001b[0m\n\u001b[0;32m    505\u001b[0m \u001b[39mdef\u001b[39;00m \u001b[39mwrap\u001b[39m(content, behavior):\n\u001b[0;32m    506\u001b[0m     \u001b[39mif\u001b[39;00m \u001b[39misinstance\u001b[39m(content, (ak\u001b[39m.\u001b[39mlayout\u001b[39m.\u001b[39mContent, ak\u001b[39m.\u001b[39mpartition\u001b[39m.\u001b[39mPartitionedArray)):\n\u001b[1;32m--> 507\u001b[0m         \u001b[39mreturn\u001b[39;00m ak\u001b[39m.\u001b[39;49mhighlevel\u001b[39m.\u001b[39;49mArray(content, behavior\u001b[39m=\u001b[39;49mbehavior, kernels\u001b[39m=\u001b[39;49m\u001b[39mNone\u001b[39;49;00m)\n\u001b[0;32m    509\u001b[0m     \u001b[39melif\u001b[39;00m \u001b[39misinstance\u001b[39m(content, ak\u001b[39m.\u001b[39mlayout\u001b[39m.\u001b[39mRecord):\n\u001b[0;32m    510\u001b[0m         \u001b[39mreturn\u001b[39;00m ak\u001b[39m.\u001b[39mhighlevel\u001b[39m.\u001b[39mRecord(content, behavior\u001b[39m=\u001b[39mbehavior, kernels\u001b[39m=\u001b[39m\u001b[39mNone\u001b[39;00m)\n",
      "File \u001b[1;32mc:\\Users\\Dell\\Anaconda3\\envs\\py38\\lib\\site-packages\\awkward\\highlevel.py:269\u001b[0m, in \u001b[0;36mArray.__init__\u001b[1;34m(self, data, behavior, with_name, check_valid, cache, kernels)\u001b[0m\n\u001b[0;32m    266\u001b[0m     layout \u001b[39m=\u001b[39m ak\u001b[39m.\u001b[39moperations\u001b[39m.\u001b[39mconvert\u001b[39m.\u001b[39mto_kernels(layout, kernels, highlevel\u001b[39m=\u001b[39m\u001b[39mFalse\u001b[39;00m)\n\u001b[0;32m    268\u001b[0m \u001b[39mself\u001b[39m\u001b[39m.\u001b[39mlayout \u001b[39m=\u001b[39m layout\n\u001b[1;32m--> 269\u001b[0m \u001b[39mself\u001b[39;49m\u001b[39m.\u001b[39;49mbehavior \u001b[39m=\u001b[39m behavior\n\u001b[0;32m    270\u001b[0m docstr \u001b[39m=\u001b[39m \u001b[39mself\u001b[39m\u001b[39m.\u001b[39mlayout\u001b[39m.\u001b[39mpurelist_parameter(\u001b[39m\"\u001b[39m\u001b[39m__doc__\u001b[39m\u001b[39m\"\u001b[39m)\n\u001b[0;32m    271\u001b[0m \u001b[39mif\u001b[39;00m \u001b[39misinstance\u001b[39m(docstr, \u001b[39mstr\u001b[39m):\n",
      "File \u001b[1;32mc:\\Users\\Dell\\Anaconda3\\envs\\py38\\lib\\site-packages\\awkward\\highlevel.py:355\u001b[0m, in \u001b[0;36mArray.behavior\u001b[1;34m(self, behavior)\u001b[0m\n\u001b[0;32m    352\u001b[0m \u001b[39m@behavior\u001b[39m\u001b[39m.\u001b[39msetter\n\u001b[0;32m    353\u001b[0m \u001b[39mdef\u001b[39;00m \u001b[39mbehavior\u001b[39m(\u001b[39mself\u001b[39m, behavior):\n\u001b[0;32m    354\u001b[0m     \u001b[39mif\u001b[39;00m behavior \u001b[39mis\u001b[39;00m \u001b[39mNone\u001b[39;00m \u001b[39mor\u001b[39;00m \u001b[39misinstance\u001b[39m(behavior, \u001b[39mdict\u001b[39m):\n\u001b[1;32m--> 355\u001b[0m         \u001b[39mself\u001b[39m\u001b[39m.\u001b[39m\u001b[39m__class__\u001b[39m \u001b[39m=\u001b[39m ak\u001b[39m.\u001b[39;49m_util\u001b[39m.\u001b[39;49marrayclass(\u001b[39mself\u001b[39;49m\u001b[39m.\u001b[39;49m_layout, behavior)\n\u001b[0;32m    356\u001b[0m         \u001b[39mself\u001b[39m\u001b[39m.\u001b[39m_behavior \u001b[39m=\u001b[39m behavior\n\u001b[0;32m    357\u001b[0m     \u001b[39melse\u001b[39;00m:\n",
      "File \u001b[1;32mc:\\Users\\Dell\\Anaconda3\\envs\\py38\\lib\\site-packages\\awkward\\_util.py:236\u001b[0m, in \u001b[0;36marrayclass\u001b[1;34m(layout, behavior)\u001b[0m\n\u001b[0;32m    234\u001b[0m         \u001b[39mreturn\u001b[39;00m \u001b[39mcls\u001b[39m\n\u001b[0;32m    235\u001b[0m deeprec \u001b[39m=\u001b[39m layout\u001b[39m.\u001b[39mpurelist_parameter(\u001b[39m\"\u001b[39m\u001b[39m__record__\u001b[39m\u001b[39m\"\u001b[39m)\n\u001b[1;32m--> 236\u001b[0m \u001b[39mif\u001b[39;00m \u001b[39misinstance\u001b[39;49m(deeprec, \u001b[39mstr\u001b[39m):\n\u001b[0;32m    237\u001b[0m     \u001b[39mcls\u001b[39m \u001b[39m=\u001b[39m behavior[\u001b[39m\"\u001b[39m\u001b[39m*\u001b[39m\u001b[39m\"\u001b[39m, deeprec]\n\u001b[0;32m    238\u001b[0m     \u001b[39mif\u001b[39;00m \u001b[39misinstance\u001b[39m(\u001b[39mcls\u001b[39m, \u001b[39mtype\u001b[39m) \u001b[39mand\u001b[39;00m \u001b[39missubclass\u001b[39m(\u001b[39mcls\u001b[39m, ak\u001b[39m.\u001b[39mhighlevel\u001b[39m.\u001b[39mArray):\n",
      "\u001b[1;31mKeyboardInterrupt\u001b[0m: "
     ]
    }
   ],
   "source": [
    "cos_theta_range = np.arange(0, 1, 0.1)\n",
    "\n",
    "res_df = pd.DataFrame(columns=['particle', 'material', 'thickness', 'p', 'cos_theta'] + index)\n",
    "\n",
    "for root_path in tqdm(glob(os.path.join(this_path, '../../data/gen/*p*/random/*/*'))):\n",
    "    root_path_copy = root_path\n",
    "    root_path_split = root_path_copy.replace('\\\\', '/').split('/')\n",
    "    particle, material, thickness = root_path_split[-4], root_path_split[-2].split('_')[1], int(root_path_split[-1])\n",
    "\n",
    "    p_min = 0.1 if 'pi' in particle else 0.3\n",
    "    p_range = np.arange(p_min, 1.4, 0.1)\n",
    "\n",
    "    # print(glob(os.path.join(root_path, '*.root')))\n",
    "    # continue\n",
    "\n",
    "    df = readRootFiles(glob(os.path.join(root_path, '*.root')))\n",
    "    \n",
    "    for i,j in tqdm(product(range(len(p_range)-1), range(len(cos_theta_range)-1))):\n",
    "        p1, p2 = p_range[i], p_range[i+1]\n",
    "        cos_theta1, cos_theta2 = cos_theta_range[j], cos_theta_range[j+1]\n",
    "\n",
    "        tmp = df.loc[\n",
    "            (df.momentum >= p1) &\n",
    "            (df.momentum < p2) &\n",
    "            (df.cos_theta >= cos_theta1) &\n",
    "            (df.cos_theta < cos_theta2)\n",
    "        ]\n",
    "        res = df2Res(tmp)\n",
    "        res = [particle, material, thickness, (p1+p2)/2, (cos_theta1+cos_theta2)/2] + list(res)\n",
    "        res_df.loc[res_df.shape[0]] = res\n",
    "\n"
   ]
  },
  {
   "cell_type": "code",
   "execution_count": null,
   "metadata": {},
   "outputs": [],
   "source": [
    "res_df.to_csv('single_ppi.csv')"
   ]
  }
 ],
 "metadata": {
  "kernelspec": {
   "display_name": "Python 3.8.13 ('py38')",
   "language": "python",
   "name": "python3"
  },
  "language_info": {
   "codemirror_mode": {
    "name": "ipython",
    "version": 3
   },
   "file_extension": ".py",
   "mimetype": "text/x-python",
   "name": "python",
   "nbconvert_exporter": "python",
   "pygments_lexer": "ipython3",
   "version": "3.8.13"
  },
  "orig_nbformat": 4,
  "vscode": {
   "interpreter": {
    "hash": "2792964f3dcf50b23a92b033166e06ea17b539f17d690189f59366d68e27ccdb"
   }
  }
 },
 "nbformat": 4,
 "nbformat_minor": 2
}
